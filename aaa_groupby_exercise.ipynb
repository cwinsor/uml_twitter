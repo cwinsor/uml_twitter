{
 "cells": [
  {
   "attachments": {},
   "cell_type": "markdown",
   "metadata": {},
   "source": [
    "### an exercise in groupby"
   ]
  },
  {
   "cell_type": "code",
   "execution_count": 15,
   "metadata": {},
   "outputs": [],
   "source": [
    "from collections import defaultdict\n",
    "\n",
    "def my_group_by(iterable, keyfunc, valfunc):\n",
    "    \"\"\"Because itertools.groupby is tricky to use\n",
    "\n",
    "    The stdlib method requires sorting in advance, and returns iterators not\n",
    "    lists, and those iterators get consumed as you try to use them, throwing\n",
    "    everything off if you try to look at something more than once.\n",
    "\n",
    "    Reference: https://stackoverflow.com/questions/773/how-do-i-use-itertools-groupby\n",
    "    \"\"\"\n",
    "    ret = defaultdict(list)\n",
    "    for item in iterable:\n",
    "        ret[keyfunc(item)].append(valfunc(item))\n",
    "    return dict(ret)"
   ]
  },
  {
   "cell_type": "code",
   "execution_count": 16,
   "metadata": {},
   "outputs": [
    {
     "data": {
      "text/plain": [
       "{'vehicle': ['speed boat', 'school bus'],\n",
       " 'animal': ['bear', 'duck'],\n",
       " 'plant': ['cactus']}"
      ]
     },
     "execution_count": 16,
     "metadata": {},
     "output_type": "execute_result"
    }
   ],
   "source": [
    "def first_element(x):\n",
    "    return x[0]\n",
    "def second_element(x):\n",
    "    return x[1]\n",
    "\n",
    "things = [\n",
    "    (\"vehicle\", \"speed boat\"),\n",
    "    (\"animal\", \"bear\"),\n",
    "    (\"animal\", \"duck\"),\n",
    "    (\"plant\", \"cactus\"),\n",
    "\n",
    "    (\"vehicle\", \"school bus\"),\n",
    "    ]\n",
    "\n",
    "my_group_by(things, first_element, second_element)\n"
   ]
  }
 ],
 "metadata": {
  "kernelspec": {
   "display_name": "pytorch_c_cuda_11_7",
   "language": "python",
   "name": "python3"
  },
  "language_info": {
   "codemirror_mode": {
    "name": "ipython",
    "version": 3
   },
   "file_extension": ".py",
   "mimetype": "text/x-python",
   "name": "python",
   "nbconvert_exporter": "python",
   "pygments_lexer": "ipython3",
   "version": "3.9.15"
  },
  "orig_nbformat": 4
 },
 "nbformat": 4,
 "nbformat_minor": 2
}
