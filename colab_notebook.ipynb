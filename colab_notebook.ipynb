{
  "cells": [
    {
      "attachments": {},
      "cell_type": "markdown",
      "metadata": {
        "colab_type": "text",
        "id": "view-in-github"
      },
      "source": [
        "<a href=\"https://colab.research.google.com/github/cwinsor/uml_twitter/blob/main/colab_notebook.ipynb\" target=\"_parent\"><img src=\"https://colab.research.google.com/assets/colab-badge.svg\" alt=\"Open In Colab\"/></a>"
      ]
    },
    {
      "attachments": {},
      "cell_type": "markdown",
      "metadata": {},
      "source": [
        "### GeoCovid19 Heterogeneous Graph (GC19HG) - Dataset Preprocessing\n",
        "\n",
        "GC19HG is a project to study macro-level characteristics of social media that result from micro-level preferences and behaviors of individuals. The work uses tweets from a Twitter dataset, specifically CrisisNLP GeoCov19 and is done by Chris Winsor as part of the Graph Data Analytics Research Group under professor Tingjian Ge at University of Massachusetts Lowell.\n",
        "\n",
        "The code here walks through the preprocessing and preliminary modeling of tweets from the GeoCov19 dataset (https://crisisnlp.qcri.org/covid19)."
      ]
    },
    {
      "cell_type": "code",
      "execution_count": null,
      "metadata": {},
      "outputs": [],
      "source": [
        "import sys\n",
        "if 'google.colab' in sys.modules:\n",
        "    print(\"host is colab\")\n",
        "    !git clone --quiet https://github.com/cwinsor/uml_twitter.git\n",
        "    sys.path.append('/content/uml_twitter/')\n",
        "else:\n",
        "    print(\"host is traditional server\")\n",
        "    # sys.path.append('../')  # make sure we can import transformer_lm"
      ]
    }
  ],
  "metadata": {
    "colab": {
      "authorship_tag": "ABX9TyPy3ar5gt6tEplkZ+Z43o0X",
      "include_colab_link": true,
      "provenance": []
    },
    "kernelspec": {
      "display_name": "Python 3",
      "name": "python3"
    },
    "language_info": {
      "name": "python"
    }
  },
  "nbformat": 4,
  "nbformat_minor": 0
}
